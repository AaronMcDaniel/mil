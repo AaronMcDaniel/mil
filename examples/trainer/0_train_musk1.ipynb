{
 "cells": [
  {
   "cell_type": "code",
   "execution_count": 1,
   "metadata": {},
   "outputs": [],
   "source": [
    "import numpy as np\n",
    "import tensorflow as tf\n",
    "import logging\n",
    "tf.get_logger().setLevel(logging.ERROR)"
   ]
  },
  {
   "cell_type": "code",
   "execution_count": 2,
   "metadata": {},
   "outputs": [],
   "source": [
    "from mil.data.datasets import musk1, musk2, protein, elephant, corel_dogs, \\\n",
    "                              ucsb_breast_cancer, web_recommendation_1, birds_brown_creeper, \\\n",
    "                              mnist_bags"
   ]
  },
  {
   "cell_type": "code",
   "execution_count": 3,
   "metadata": {},
   "outputs": [],
   "source": [
    "(bags_train, y_train), (bags_test, y_test) = musk1.load()"
   ]
  },
  {
   "cell_type": "markdown",
   "metadata": {},
   "source": [
    "# Train discriminative mapping"
   ]
  },
  {
   "cell_type": "code",
   "execution_count": 4,
   "metadata": {},
   "outputs": [],
   "source": [
    "from mil.trainer import Trainer"
   ]
  },
  {
   "cell_type": "code",
   "execution_count": 5,
   "metadata": {},
   "outputs": [],
   "source": [
    "from mil.metrics import AUC, BinaryAccuracy\n",
    "from mil.validators import KFold\n",
    "from mil.trainer.trainer import Trainer\n",
    "from mil.models import SVC\n",
    "from mil.bag_representation.mapping import DiscriminativeMapping\n",
    "from mil.preprocessing import StandarizerBagsList"
   ]
  },
  {
   "cell_type": "code",
   "execution_count": 6,
   "metadata": {},
   "outputs": [],
   "source": [
    "trainer = Trainer()\n",
    "\n",
    "metrics = [AUC, BinaryAccuracy]\n",
    "model = SVC(kernel='linear', C=1, class_weight='balanced')\n",
    "pipeline = [('scale', StandarizerBagsList()), ('disc_mapping', DiscriminativeMapping(m=30))]\n",
    "\n",
    "trainer.prepare(model, preprocess_pipeline=pipeline ,metrics=metrics)"
   ]
  },
  {
   "cell_type": "code",
   "execution_count": 7,
   "metadata": {
    "scrolled": true
   },
   "outputs": [
    {
     "name": "stdout",
     "output_type": "stream",
     "text": [
      "10/10 [==============================] - 3s 253ms/step - train_auc: 0.4855 - train_binaryaccuracy: 0.4855 - val_auc: 0.6712 - val_binaryaccuracy: 0.6732\n"
     ]
    }
   ],
   "source": [
    "valid = KFold(n_splits=10, shuffle=True)\n",
    "\n",
    "history = trainer.fit(bags_train, y_train, sample_weights='balanced', validation_strategy=valid, verbose=1)"
   ]
  },
  {
   "cell_type": "code",
   "execution_count": 8,
   "metadata": {},
   "outputs": [
    {
     "name": "stdout",
     "output_type": "stream",
     "text": [
      "0.65694517\n"
     ]
    },
    {
     "data": {
      "text/plain": [
       "[{'auc': 0.5, 'binaryaccuracy': 0.625},\n",
       " {'auc': 0.5, 'binaryaccuracy': 0.625},\n",
       " {'auc': 0.6118882, 'binaryaccuracy': 0.625},\n",
       " {'auc': 0.6806723, 'binaryaccuracy': 0.68303573},\n",
       " {'auc': 0.6842105, 'binaryaccuracy': 0.68928576},\n",
       " {'auc': 0.64426875, 'binaryaccuracy': 0.6458334},\n",
       " {'auc': 0.6488095, 'binaryaccuracy': 0.6556123},\n",
       " {'auc': 0.6480186, 'binaryaccuracy': 0.66294646},\n",
       " {'auc': 0.68014705, 'binaryaccuracy': 0.6845238},\n",
       " {'auc': 0.6711712, 'binaryaccuracy': 0.6732143}]"
      ]
     },
     "execution_count": 8,
     "metadata": {},
     "output_type": "execute_result"
    }
   ],
   "source": [
    "print(np.mean([e['binaryaccuracy'] for e in history['metrics_val']]))\n",
    "history['metrics_val']"
   ]
  },
  {
   "cell_type": "code",
   "execution_count": 9,
   "metadata": {},
   "outputs": [
    {
     "data": {
      "text/plain": [
       "array([ 48,  28, 243,  73,  24,  54, 248, 316, 246, 314,  91, 284,   9,\n",
       "        40,  10,  31,  37,  21,  20,  36,  19,  18,  92,  93,  94, 288,\n",
       "       287, 286, 282, 283], dtype=int64)"
      ]
     },
     "execution_count": 9,
     "metadata": {},
     "output_type": "execute_result"
    }
   ],
   "source": [
    "# most discriminative instances\n",
    "trainer.pipeline['disc_mapping'].items_"
   ]
  },
  {
   "cell_type": "code",
   "execution_count": 10,
   "metadata": {},
   "outputs": [
    {
     "data": {
      "text/plain": [
       "{'auc': 0.5, 'binaryaccuracy': 0.57894737}"
      ]
     },
     "execution_count": 10,
     "metadata": {},
     "output_type": "execute_result"
    }
   ],
   "source": [
    "trainer.predict_metrics(bags_test, y_test)"
   ]
  },
  {
   "cell_type": "markdown",
   "metadata": {},
   "source": [
    "# Train MILES"
   ]
  },
  {
   "cell_type": "code",
   "execution_count": 11,
   "metadata": {},
   "outputs": [],
   "source": [
    "from mil.validators import LeaveOneOut\n",
    "from mil.models import MILES"
   ]
  },
  {
   "cell_type": "code",
   "execution_count": 12,
   "metadata": {},
   "outputs": [],
   "source": [
    "trainer = Trainer()\n",
    "\n",
    "metrics = [AUC, BinaryAccuracy]\n",
    "model = MILES()\n",
    "pipeline = [('scale', StandarizerBagsList())]\n",
    "\n",
    "trainer.prepare(model, preprocess_pipeline=pipeline, metrics=metrics)"
   ]
  },
  {
   "cell_type": "code",
   "execution_count": 13,
   "metadata": {},
   "outputs": [
    {
     "name": "stdout",
     "output_type": "stream",
     "text": [
      "73/73 [==============================] - 8s 111ms/step - train_auc: 1.0000 - train_binaryaccuracy: 1.0000 - val_auc: 0.6389 - val_binaryaccuracy: 0.6438\n"
     ]
    }
   ],
   "source": [
    "history = trainer.fit(bags_train, y_train, validation_strategy=LeaveOneOut(), sample_weights='balanced', verbose=1)"
   ]
  },
  {
   "cell_type": "code",
   "execution_count": 14,
   "metadata": {},
   "outputs": [
    {
     "name": "stdout",
     "output_type": "stream",
     "text": [
      "0.6725049\n"
     ]
    }
   ],
   "source": [
    "print(np.mean([e['binaryaccuracy'] for e in history['metrics_val']]))\n",
    "#history['metrics_val']"
   ]
  },
  {
   "cell_type": "code",
   "execution_count": 15,
   "metadata": {},
   "outputs": [
    {
     "data": {
      "text/plain": [
       "{'auc': 0.6363636, 'binaryaccuracy': 0.57894737}"
      ]
     },
     "execution_count": 15,
     "metadata": {},
     "output_type": "execute_result"
    }
   ],
   "source": [
    "trainer.predict_metrics(bags_test, y_test)"
   ]
  },
  {
   "cell_type": "markdown",
   "metadata": {},
   "source": [
    "# Train MILES mapping + SVC"
   ]
  },
  {
   "cell_type": "code",
   "execution_count": 16,
   "metadata": {},
   "outputs": [],
   "source": [
    "from mil.bag_representation import MILESMapping"
   ]
  },
  {
   "cell_type": "code",
   "execution_count": 17,
   "metadata": {},
   "outputs": [],
   "source": [
    "trainer = Trainer()\n",
    "\n",
    "metrics = [AUC, BinaryAccuracy]\n",
    "model = SVC(kernel='linear', C=1, class_weight='balanced')\n",
    "pipeline = [('scale', StandarizerBagsList()), ('disc_mapping', MILESMapping())]\n",
    "\n",
    "trainer.prepare(model, preprocess_pipeline=pipeline ,metrics=metrics)"
   ]
  },
  {
   "cell_type": "code",
   "execution_count": 18,
   "metadata": {},
   "outputs": [
    {
     "name": "stdout",
     "output_type": "stream",
     "text": [
      "10/10 [==============================] - 1s 92ms/step - train_auc: 1.0000 - train_binaryaccuracy: 1.0000 - val_auc: 0.7917 - val_binaryaccuracy: 0.7964\n"
     ]
    }
   ],
   "source": [
    "valid = KFold(n_splits=10, shuffle=True)\n",
    "\n",
    "history = trainer.fit(bags_train, y_train, sample_weights='balanced', validation_strategy=valid, verbose=1)"
   ]
  },
  {
   "cell_type": "code",
   "execution_count": 19,
   "metadata": {},
   "outputs": [
    {
     "name": "stdout",
     "output_type": "stream",
     "text": [
      "0.7616539\n"
     ]
    },
    {
     "data": {
      "text/plain": [
       "[{'auc': 0.8, 'binaryaccuracy': 0.75},\n",
       " {'auc': 0.7777778, 'binaryaccuracy': 0.75},\n",
       " {'auc': 0.7692308, 'binaryaccuracy': 0.75},\n",
       " {'auc': 0.78125, 'binaryaccuracy': 0.77678573},\n",
       " {'auc': 0.75, 'binaryaccuracy': 0.7357143},\n",
       " {'auc': 0.73913044, 'binaryaccuracy': 0.73214287},\n",
       " {'auc': 0.76, 'binaryaccuracy': 0.77040815},\n",
       " {'auc': 0.76785713, 'binaryaccuracy': 0.78125},\n",
       " {'auc': 0.77272725, 'binaryaccuracy': 0.77380955},\n",
       " {'auc': 0.7916666, 'binaryaccuracy': 0.79642856}]"
      ]
     },
     "execution_count": 19,
     "metadata": {},
     "output_type": "execute_result"
    }
   ],
   "source": [
    "print(np.mean([e['binaryaccuracy'] for e in history['metrics_val']]))\n",
    "history['metrics_val']"
   ]
  },
  {
   "cell_type": "code",
   "execution_count": 20,
   "metadata": {},
   "outputs": [
    {
     "data": {
      "text/plain": [
       "{'auc': 0.72727275, 'binaryaccuracy': 0.68421054}"
      ]
     },
     "execution_count": 20,
     "metadata": {},
     "output_type": "execute_result"
    }
   ],
   "source": [
    "trainer.predict_metrics(bags_test, y_test)"
   ]
  },
  {
   "cell_type": "markdown",
   "metadata": {},
   "source": [
    "# Train DeepAttentionMIL"
   ]
  },
  {
   "cell_type": "code",
   "execution_count": 21,
   "metadata": {},
   "outputs": [],
   "source": [
    "from mil.models.bag_level.deep_attention import AttentionDeepPoolingMil\n",
    "from mil.utils.utils import get_samples_weight\n",
    "from mil.utils.padding import Padding"
   ]
  },
  {
   "cell_type": "code",
   "execution_count": 22,
   "metadata": {},
   "outputs": [],
   "source": [
    "trainer = Trainer()\n",
    "\n",
    "metrics = [AUC, BinaryAccuracy]\n",
    "model = AttentionDeepPoolingMil(gated=False, threshold=0.4)\n",
    "pipeline = [('scale', StandarizerBagsList()), ('padding', Padding())]\n",
    "\n",
    "trainer.prepare(model, preprocess_pipeline=pipeline ,metrics=metrics)"
   ]
  },
  {
   "cell_type": "code",
   "execution_count": 23,
   "metadata": {},
   "outputs": [
    {
     "name": "stdout",
     "output_type": "stream",
     "text": [
      "10/10 [==============================] - 16s 2s/step - train_auc: 0.9992 - train_binaryaccuracy: 0.9893 - val_auc: 0.9122 - val_binaryaccuracy: 0.8214\n"
     ]
    }
   ],
   "source": [
    "valid = KFold(n_splits=10, shuffle=True)\n",
    "\n",
    "history = trainer.fit(bags_train, y_train, validation_strategy=valid, sample_weights='balanced',\n",
    "                      verbose=1, model__epochs=10, model__batch_size=2, model__verbose=0)"
   ]
  },
  {
   "cell_type": "code",
   "execution_count": 24,
   "metadata": {},
   "outputs": [
    {
     "name": "stdout",
     "output_type": "stream",
     "text": [
      "0.8256321\n"
     ]
    },
    {
     "data": {
      "text/plain": [
       "[{'auc': 1.0, 'binaryaccuracy': 0.875},\n",
       " {'auc': 1.0, 'binaryaccuracy': 0.875},\n",
       " {'auc': 0.8916084, 'binaryaccuracy': 0.8333333},\n",
       " {'auc': 0.90208334, 'binaryaccuracy': 0.80357146},\n",
       " {'auc': 0.91596633, 'binaryaccuracy': 0.81428576},\n",
       " {'auc': 0.909, 'binaryaccuracy': 0.7976191},\n",
       " {'auc': 0.9125926, 'binaryaccuracy': 0.8061225},\n",
       " {'auc': 0.922235, 'binaryaccuracy': 0.81250006},\n",
       " {'auc': 0.9149816, 'binaryaccuracy': 0.81746036},\n",
       " {'auc': 0.91216207, 'binaryaccuracy': 0.8214286}]"
      ]
     },
     "execution_count": 24,
     "metadata": {},
     "output_type": "execute_result"
    }
   ],
   "source": [
    "print(np.mean([e['binaryaccuracy'] for e in history['metrics_val']]))\n",
    "history['metrics_val']"
   ]
  },
  {
   "cell_type": "code",
   "execution_count": 25,
   "metadata": {},
   "outputs": [
    {
     "data": {
      "text/plain": [
       "{'auc': 0.8863636, 'binaryaccuracy': 0.94736844}"
      ]
     },
     "execution_count": 25,
     "metadata": {},
     "output_type": "execute_result"
    }
   ],
   "source": [
    "trainer.predict_metrics(bags_test, y_test)"
   ]
  },
  {
   "cell_type": "code",
   "execution_count": 26,
   "metadata": {},
   "outputs": [
    {
     "data": {
      "text/plain": [
       "<tf.Tensor: shape=(11, 2), dtype=int64, numpy=\n",
       "array([[ 0,  0],\n",
       "       [ 1,  3],\n",
       "       [ 2,  1],\n",
       "       [ 3,  0],\n",
       "       [ 3,  4],\n",
       "       [ 4,  0],\n",
       "       [ 5,  3],\n",
       "       [11,  0],\n",
       "       [12,  1],\n",
       "       [14,  0],\n",
       "       [16,  0]], dtype=int64)>"
      ]
     },
     "execution_count": 26,
     "metadata": {},
     "output_type": "execute_result"
    }
   ],
   "source": [
    "# positive instances with more than 0.4 in attention weight\n",
    "trainer.get_positive_instances(bags_test)"
   ]
  },
  {
   "cell_type": "markdown",
   "metadata": {},
   "source": [
    "# Train APR"
   ]
  },
  {
   "cell_type": "code",
   "execution_count": 27,
   "metadata": {},
   "outputs": [],
   "source": [
    "from mil.models import APR"
   ]
  },
  {
   "cell_type": "code",
   "execution_count": 28,
   "metadata": {},
   "outputs": [],
   "source": [
    "trainer = Trainer()\n",
    "\n",
    "metrics = [AUC, BinaryAccuracy]\n",
    "model = APR(thres=0.5, epsilon=0.05, step=1, verbose=0)\n",
    "pipeline = [('scale', StandarizerBagsList())]\n",
    "\n",
    "trainer.prepare(model, preprocess_pipeline=pipeline ,metrics=metrics)"
   ]
  },
  {
   "cell_type": "code",
   "execution_count": 29,
   "metadata": {},
   "outputs": [
    {
     "name": "stdout",
     "output_type": "stream",
     "text": [
      "10/10 [==============================] - 6s 628ms/step - train_auc: 0.8994 - train_binaryaccuracy: 0.8980 - val_auc: 0.8236 - val_binaryaccuracy: 0.8196\n"
     ]
    }
   ],
   "source": [
    "valid = KFold(n_splits=10, shuffle=True)\n",
    "\n",
    "history = trainer.fit(bags_train, y_train, validation_strategy=valid, sample_weights='balanced',\n",
    "                      verbose=1, model__epochs=10, model__batch_size=2, model__verbose=0)"
   ]
  },
  {
   "cell_type": "code",
   "execution_count": 30,
   "metadata": {},
   "outputs": [
    {
     "name": "stdout",
     "output_type": "stream",
     "text": [
      "0.84615296\n"
     ]
    },
    {
     "data": {
      "text/plain": [
       "[{'auc': 1.0, 'binaryaccuracy': 1.0},\n",
       " {'auc': 0.8333333, 'binaryaccuracy': 0.875},\n",
       " {'auc': 0.875, 'binaryaccuracy': 0.875},\n",
       " {'auc': 0.84375, 'binaryaccuracy': 0.83482146},\n",
       " {'auc': 0.825, 'binaryaccuracy': 0.81071436},\n",
       " {'auc': 0.8023716, 'binaryaccuracy': 0.7946429},\n",
       " {'auc': 0.822963, 'binaryaccuracy': 0.8239797},\n",
       " {'auc': 0.8248849, 'binaryaccuracy': 0.82812506},\n",
       " {'auc': 0.8030303, 'binaryaccuracy': 0.7996032},\n",
       " {'auc': 0.8235736, 'binaryaccuracy': 0.8196429}]"
      ]
     },
     "execution_count": 30,
     "metadata": {},
     "output_type": "execute_result"
    }
   ],
   "source": [
    "print(np.mean([e['binaryaccuracy'] for e in history['metrics_val']]))\n",
    "history['metrics_val']"
   ]
  },
  {
   "cell_type": "code",
   "execution_count": 31,
   "metadata": {},
   "outputs": [
    {
     "data": {
      "text/plain": [
       "{'auc': 0.5795455, 'binaryaccuracy': 0.6315789}"
      ]
     },
     "execution_count": 31,
     "metadata": {},
     "output_type": "execute_result"
    }
   ],
   "source": [
    "trainer.predict_metrics(bags_test, y_test)"
   ]
  },
  {
   "cell_type": "code",
   "execution_count": 32,
   "metadata": {},
   "outputs": [
    {
     "data": {
      "text/plain": [
       "array([[ 0,  1],\n",
       "       [ 1,  1],\n",
       "       [ 2,  0],\n",
       "       [ 2,  1],\n",
       "       [ 4,  0],\n",
       "       [ 5,  1],\n",
       "       [ 5,  3],\n",
       "       [ 6,  0],\n",
       "       [ 7,  0],\n",
       "       [ 8, 20],\n",
       "       [ 8, 24],\n",
       "       [ 8, 31],\n",
       "       [ 8, 38],\n",
       "       [10,  0],\n",
       "       [10,  2],\n",
       "       [10,  4],\n",
       "       [10,  6],\n",
       "       [11,  1],\n",
       "       [12,  0],\n",
       "       [12,  1],\n",
       "       [13,  0],\n",
       "       [14,  0],\n",
       "       [14,  1],\n",
       "       [14,  2],\n",
       "       [16,  0],\n",
       "       [16,  1],\n",
       "       [16,  3],\n",
       "       [17,  0],\n",
       "       [17,  3],\n",
       "       [17,  4],\n",
       "       [17,  5],\n",
       "       [17,  8],\n",
       "       [17, 12],\n",
       "       [17, 13],\n",
       "       [18,  1]])"
      ]
     },
     "execution_count": 32,
     "metadata": {},
     "output_type": "execute_result"
    }
   ],
   "source": [
    "trainer.get_positive_instances(bags_test)"
   ]
  },
  {
   "cell_type": "markdown",
   "metadata": {},
   "source": [
    "# Train arithmetic mean bag + SVM"
   ]
  },
  {
   "cell_type": "code",
   "execution_count": 33,
   "metadata": {},
   "outputs": [],
   "source": [
    "from mil.bag_representation import ArithmeticMeanBagRepresentation"
   ]
  },
  {
   "cell_type": "code",
   "execution_count": 34,
   "metadata": {},
   "outputs": [],
   "source": [
    "trainer = Trainer()\n",
    "\n",
    "metrics = [AUC, BinaryAccuracy]\n",
    "model = SVC(kernel='linear', C=1, class_weight='balanced')\n",
    "pipeline = [('mean_bag', ArithmeticMeanBagRepresentation())]\n",
    "\n",
    "trainer.prepare(model, preprocess_pipeline=pipeline ,metrics=metrics)"
   ]
  },
  {
   "cell_type": "code",
   "execution_count": 35,
   "metadata": {},
   "outputs": [
    {
     "name": "stdout",
     "output_type": "stream",
     "text": [
      "10/10 [==============================] - 0s 24ms/step - train_auc: 1.0000 - train_binaryaccuracy: 1.0000 - val_auc: 0.8086 - val_binaryaccuracy: 0.8071\n"
     ]
    }
   ],
   "source": [
    "valid = KFold(n_splits=10, shuffle=True)\n",
    "\n",
    "history = trainer.fit(bags_train, y_train, validation_strategy=valid, sample_weights='balanced',\n",
    "                      verbose=1)"
   ]
  },
  {
   "cell_type": "code",
   "execution_count": 36,
   "metadata": {},
   "outputs": [
    {
     "name": "stdout",
     "output_type": "stream",
     "text": [
      "0.81275237\n"
     ]
    },
    {
     "data": {
      "text/plain": [
       "[{'auc': 0.85714287, 'binaryaccuracy': 0.75},\n",
       " {'auc': 0.9090909, 'binaryaccuracy': 0.875},\n",
       " {'auc': 0.8666667, 'binaryaccuracy': 0.8333333},\n",
       " {'auc': 0.8172269, 'binaryaccuracy': 0.80357146},\n",
       " {'auc': 0.8222222, 'binaryaccuracy': 0.81428576},\n",
       " {'auc': 0.83, 'binaryaccuracy': 0.8214286},\n",
       " {'auc': 0.8333333, 'binaryaccuracy': 0.82653064},\n",
       " {'auc': 0.7943548, 'binaryaccuracy': 0.7946429},\n",
       " {'auc': 0.80303025, 'binaryaccuracy': 0.80158734},\n",
       " {'auc': 0.8085585, 'binaryaccuracy': 0.8071429}]"
      ]
     },
     "execution_count": 36,
     "metadata": {},
     "output_type": "execute_result"
    }
   ],
   "source": [
    "print(np.mean([e['binaryaccuracy'] for e in history['metrics_val']]))\n",
    "history['metrics_val']"
   ]
  },
  {
   "cell_type": "code",
   "execution_count": 37,
   "metadata": {},
   "outputs": [
    {
     "data": {
      "text/plain": [
       "{'auc': 0.875, 'binaryaccuracy': 0.8947368}"
      ]
     },
     "execution_count": 37,
     "metadata": {},
     "output_type": "execute_result"
    }
   ],
   "source": [
    "trainer.predict_metrics(bags_test, y_test)"
   ]
  },
  {
   "cell_type": "markdown",
   "metadata": {},
   "source": [
    "# Train arithmetic mean bag + LogisticRegression"
   ]
  },
  {
   "cell_type": "code",
   "execution_count": 38,
   "metadata": {},
   "outputs": [],
   "source": [
    "from mil.models import LogisticRegressionCV"
   ]
  },
  {
   "cell_type": "code",
   "execution_count": 39,
   "metadata": {},
   "outputs": [],
   "source": [
    "trainer = Trainer()\n",
    "\n",
    "metrics = [AUC, BinaryAccuracy]\n",
    "model = LogisticRegressionCV(class_weight='balanced', max_iter=1000)\n",
    "pipeline = [('mean_bag', ArithmeticMeanBagRepresentation())]\n",
    "\n",
    "trainer.prepare(model, preprocess_pipeline=pipeline ,metrics=metrics)"
   ]
  },
  {
   "cell_type": "code",
   "execution_count": 40,
   "metadata": {},
   "outputs": [
    {
     "name": "stdout",
     "output_type": "stream",
     "text": [
      "10/10 [==============================] - 5s 539ms/step - train_auc: 0.9757 - train_binaryaccuracy: 0.9756 - val_auc: 0.8082 - val_binaryaccuracy: 0.8089\n"
     ]
    }
   ],
   "source": [
    "valid = KFold(n_splits=10, shuffle=True)\n",
    "\n",
    "history = trainer.fit(bags_train, y_train, validation_strategy=valid, sample_weights='balanced',\n",
    "                      verbose=1)"
   ]
  },
  {
   "cell_type": "code",
   "execution_count": 41,
   "metadata": {},
   "outputs": [
    {
     "name": "stdout",
     "output_type": "stream",
     "text": [
      "0.8263613\n"
     ]
    },
    {
     "data": {
      "text/plain": [
       "[{'auc': 1.0, 'binaryaccuracy': 1.0},\n",
       " {'auc': 0.7833333, 'binaryaccuracy': 0.8125},\n",
       " {'auc': 0.7916667, 'binaryaccuracy': 0.7916667},\n",
       " {'auc': 0.8416667, 'binaryaccuracy': 0.84375},\n",
       " {'auc': 0.87222224, 'binaryaccuracy': 0.875},\n",
       " {'auc': 0.77766794, 'binaryaccuracy': 0.7767857},\n",
       " {'auc': 0.7888889, 'binaryaccuracy': 0.7882653},\n",
       " {'auc': 0.77988505, 'binaryaccuracy': 0.77901787},\n",
       " {'auc': 0.78768384, 'binaryaccuracy': 0.78769845},\n",
       " {'auc': 0.8081832, 'binaryaccuracy': 0.8089286}]"
      ]
     },
     "execution_count": 41,
     "metadata": {},
     "output_type": "execute_result"
    }
   ],
   "source": [
    "print(np.mean([e['binaryaccuracy'] for e in history['metrics_val']]))\n",
    "history['metrics_val']"
   ]
  },
  {
   "cell_type": "code",
   "execution_count": 42,
   "metadata": {},
   "outputs": [
    {
     "data": {
      "text/plain": [
       "{'auc': 0.8295455, 'binaryaccuracy': 0.84210527}"
      ]
     },
     "execution_count": 42,
     "metadata": {},
     "output_type": "execute_result"
    }
   ],
   "source": [
    "trainer.predict_metrics(bags_test, y_test)"
   ]
  },
  {
   "cell_type": "markdown",
   "metadata": {},
   "source": [
    "# Train median mean bag + RandomForest"
   ]
  },
  {
   "cell_type": "code",
   "execution_count": 43,
   "metadata": {},
   "outputs": [],
   "source": [
    "from mil.models import RandomForestClassifier\n",
    "from mil.bag_representation import MedianBagRepresentation"
   ]
  },
  {
   "cell_type": "code",
   "execution_count": 44,
   "metadata": {},
   "outputs": [],
   "source": [
    "trainer = Trainer()\n",
    "\n",
    "metrics = [AUC, BinaryAccuracy]\n",
    "model = RandomForestClassifier(class_weight='balanced')\n",
    "pipeline = [('median_bag', MedianBagRepresentation())]\n",
    "\n",
    "trainer.prepare(model, preprocess_pipeline=pipeline ,metrics=metrics)"
   ]
  },
  {
   "cell_type": "code",
   "execution_count": 45,
   "metadata": {},
   "outputs": [
    {
     "name": "stdout",
     "output_type": "stream",
     "text": [
      "10/10 [==============================] - 2s 152ms/step - train_auc: 1.0000 - train_binaryaccuracy: 1.0000 - val_auc: 0.8221 - val_binaryaccuracy: 0.8161\n"
     ]
    }
   ],
   "source": [
    "valid = KFold(n_splits=10, shuffle=True)\n",
    "\n",
    "history = trainer.fit(bags_train, y_train, validation_strategy=valid, sample_weights='balanced',\n",
    "                      verbose=1)"
   ]
  },
  {
   "cell_type": "code",
   "execution_count": 46,
   "metadata": {},
   "outputs": [
    {
     "name": "stdout",
     "output_type": "stream",
     "text": [
      "0.85787773\n"
     ]
    },
    {
     "data": {
      "text/plain": [
       "[{'auc': 1.0, 'binaryaccuracy': 1.0},\n",
       " {'auc': 0.95, 'binaryaccuracy': 0.9375},\n",
       " {'auc': 0.9615385, 'binaryaccuracy': 0.9583333},\n",
       " {'auc': 0.9059829, 'binaryaccuracy': 0.89732146},\n",
       " {'auc': 0.78888893, 'binaryaccuracy': 0.77500004},\n",
       " {'auc': 0.8221344, 'binaryaccuracy': 0.8125},\n",
       " {'auc': 0.80952376, 'binaryaccuracy': 0.7984694},\n",
       " {'auc': 0.7971264, 'binaryaccuracy': 0.78794646},\n",
       " {'auc': 0.8033088, 'binaryaccuracy': 0.795635},\n",
       " {'auc': 0.822072, 'binaryaccuracy': 0.8160715}]"
      ]
     },
     "execution_count": 46,
     "metadata": {},
     "output_type": "execute_result"
    }
   ],
   "source": [
    "print(np.mean([e['binaryaccuracy'] for e in history['metrics_val']]))\n",
    "history['metrics_val']"
   ]
  },
  {
   "cell_type": "code",
   "execution_count": 47,
   "metadata": {},
   "outputs": [
    {
     "data": {
      "text/plain": [
       "{'auc': 0.8295455, 'binaryaccuracy': 0.84210527}"
      ]
     },
     "execution_count": 47,
     "metadata": {},
     "output_type": "execute_result"
    }
   ],
   "source": [
    "trainer.predict_metrics(bags_test, y_test)"
   ]
  }
 ],
 "metadata": {
  "kernelspec": {
   "display_name": "Python 3",
   "language": "python",
   "name": "python3"
  },
  "language_info": {
   "codemirror_mode": {
    "name": "ipython",
    "version": 3
   },
   "file_extension": ".py",
   "mimetype": "text/x-python",
   "name": "python",
   "nbconvert_exporter": "python",
   "pygments_lexer": "ipython3",
   "version": "3.7.6"
  }
 },
 "nbformat": 4,
 "nbformat_minor": 4
}
